{
 "cells": [
  {
   "cell_type": "code",
   "execution_count": 34,
   "id": "64df6a6e-bdb7-44a4-a4d9-e46feeff5f24",
   "metadata": {},
   "outputs": [],
   "source": [
    "from datetime import timedelta, datetime, timezone\n",
    "from bytewax.operators.windowing import EventClock, TumblingWindower\n",
    "\n",
    "clock = EventClock(ts_getter=lambda x: x[\"at\"], wait_for_system_duration=timedelta(0))\n",
    "windower = TumblingWindower(\n",
    "    length=timedelta(hours=1),\n",
    "    align_to=datetime(2023, 1, 1, 0, 0, 0, tzinfo=timezone.utc),\n",
    ")"
   ]
  },
  {
   "cell_type": "code",
   "execution_count": 35,
   "id": "f0795a98-e0a9-4a1f-ac84-6858984c456f",
   "metadata": {},
   "outputs": [
    {
     "data": {
      "text/plain": [
       "Stream(stream_id='join_eg.check_join.inspect_debug.down', _scope=_Scope(parent_id='join_eg'))"
      ]
     },
     "execution_count": 35,
     "metadata": {},
     "output_type": "execute_result"
    }
   ],
   "source": [
    "from bytewax.dataflow import Dataflow\n",
    "import bytewax.operators as op\n",
    "from bytewax.testing import TestingSource\n",
    "import bytewax.operators.windowing as win\n",
    "\n",
    "flow = Dataflow(\"join_eg\")\n",
    "\n",
    "names_l = [\n",
    "    {\n",
    "        \"user_id\": 123,\n",
    "        \"at\": datetime(2023, 12, 14, 0, 0, tzinfo=timezone.utc),\n",
    "        \"name\": \"Bee\",\n",
    "    },\n",
    "    {\n",
    "        \"user_id\": 456,\n",
    "        \"at\": datetime(2023, 12, 14, 0, 0, tzinfo=timezone.utc),\n",
    "        \"name\": \"Hive\",\n",
    "    },\n",
    "]\n",
    "names = op.input(\"names\", flow, TestingSource(names_l))\n",
    "\n",
    "emails_l = [\n",
    "    {\n",
    "        \"user_id\": 123,\n",
    "        \"at\": datetime(2023, 12, 14, 0, 15, tzinfo=timezone.utc),\n",
    "        \"email\": \"bee@bytewax.io\",\n",
    "    },\n",
    "    {\n",
    "        \"user_id\": 456,\n",
    "        \"at\": datetime(2023, 12, 14, 1, 15, tzinfo=timezone.utc),\n",
    "        \"email\": \"hive@bytewax.io\",\n",
    "    },\n",
    "]\n",
    "emails = op.input(\"emails\", flow, TestingSource(emails_l))\n",
    "\n",
    "keyed_names = op.map(\"key_names\", names, lambda x: (str(x[\"user_id\"]), x))\n",
    "keyed_emails = op.map(\"key_emails\", emails, lambda x: (str(x[\"user_id\"]), x))\n",
    "op.inspect(\"check_names\", keyed_names)\n",
    "op.inspect(\"check_emails\", keyed_emails)\n",
    "\n",
    "joined_out = win.join_window(\"join\", clock, windower, keyed_names, keyed_emails)\n",
    "\n",
    "op.inspect(\"check_join\", joined_out.down)"
   ]
  },
  {
   "cell_type": "code",
   "execution_count": 36,
   "id": "02989db8-b95a-4bf1-8b7d-2df824cebeed",
   "metadata": {},
   "outputs": [
    {
     "name": "stdout",
     "output_type": "stream",
     "text": [
      "join_eg.check_names: ('123', {'user_id': 123, 'at': datetime.datetime(2023, 12, 14, 0, 0, tzinfo=datetime.timezone.utc), 'name': 'Bee'})\n",
      "join_eg.check_emails: ('123', {'user_id': 123, 'at': datetime.datetime(2023, 12, 14, 0, 15, tzinfo=datetime.timezone.utc), 'email': 'bee@bytewax.io'})\n",
      "join_eg.check_names: ('456', {'user_id': 456, 'at': datetime.datetime(2023, 12, 14, 0, 0, tzinfo=datetime.timezone.utc), 'name': 'Hive'})\n",
      "join_eg.check_emails: ('456', {'user_id': 456, 'at': datetime.datetime(2023, 12, 14, 1, 15, tzinfo=datetime.timezone.utc), 'email': 'hive@bytewax.io'})\n",
      "join_eg.check_join: ('456', (8328, ({'user_id': 456, 'at': datetime.datetime(2023, 12, 14, 0, 0, tzinfo=datetime.timezone.utc), 'name': 'Hive'}, None)))\n",
      "join_eg.check_join: ('123', (8328, ({'user_id': 123, 'at': datetime.datetime(2023, 12, 14, 0, 0, tzinfo=datetime.timezone.utc), 'name': 'Bee'}, {'user_id': 123, 'at': datetime.datetime(2023, 12, 14, 0, 15, tzinfo=datetime.timezone.utc), 'email': 'bee@bytewax.io'})))\n",
      "join_eg.check_join: ('456', (8329, (None, {'user_id': 456, 'at': datetime.datetime(2023, 12, 14, 1, 15, tzinfo=datetime.timezone.utc), 'email': 'hive@bytewax.io'})))\n"
     ]
    }
   ],
   "source": [
    "from bytewax import run\n",
    "\n",
    "run.cli_main(flow)"
   ]
  }
 ],
 "metadata": {
  "kernelspec": {
   "display_name": "Python 3 (ipykernel)",
   "language": "python",
   "name": "python3"
  },
  "language_info": {
   "codemirror_mode": {
    "name": "ipython",
    "version": 3
   },
   "file_extension": ".py",
   "mimetype": "text/x-python",
   "name": "python",
   "nbconvert_exporter": "python",
   "pygments_lexer": "ipython3",
   "version": "3.12.10"
  }
 },
 "nbformat": 4,
 "nbformat_minor": 5
}
