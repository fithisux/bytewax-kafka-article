{
 "cells": [
  {
   "cell_type": "code",
   "execution_count": null,
   "id": "f0795a98-e0a9-4a1f-ac84-6858984c456f",
   "metadata": {},
   "outputs": [],
   "source": [
    "from bytewax.dataflow import Dataflow\n",
    "import bytewax.operators as op\n",
    "from bytewax.testing import TestingSource\n",
    "\n",
    "flow = Dataflow(\"join_eg\")\n",
    "\n",
    "names_l = [\n",
    "    {\"user_id\": 123, \"name\": \"Bee\"},\n",
    "    {\"user_id\": 456, \"name\": \"Hive\"},\n",
    "]\n",
    "names = op.input(\"names\", flow, TestingSource(names_l))\n",
    "\n",
    "emails_l = [\n",
    "    {\"user_id\": 123, \"email\": \"bee@bytewax.io\"},\n",
    "    {\"user_id\": 456, \"email\": \"hive@bytewax.io\"},\n",
    "]\n",
    "emails = op.input(\"emails\", flow, TestingSource(emails_l))"
   ]
  },
  {
   "cell_type": "code",
   "execution_count": null,
   "id": "98c9d5d9-2d30-4b26-bac1-b1bb5f2895ac",
   "metadata": {},
   "outputs": [],
   "source": [
    "keyed_names = op.map(\"key_names\", names, lambda x: (str(x[\"user_id\"]), x[\"name\"]))\n",
    "keyed_emails = op.map(\"key_emails\", emails, lambda x: (str(x[\"user_id\"]), x[\"email\"]))\n",
    "op.inspect(\"check_names\", keyed_names)\n",
    "op.inspect(\"check_emails\", keyed_emails)"
   ]
  },
  {
   "cell_type": "code",
   "execution_count": null,
   "id": "7e5301b5-2322-4a8c-82fd-3e21046acf00",
   "metadata": {},
   "outputs": [],
   "source": [
    "joined = op.join(\"join\", keyed_names, keyed_emails)\n",
    "\n",
    "op.inspect(\"check_join\", joined)"
   ]
  },
  {
   "cell_type": "code",
   "execution_count": null,
   "id": "02989db8-b95a-4bf1-8b7d-2df824cebeed",
   "metadata": {},
   "outputs": [],
   "source": [
    "from bytewax.execution import run_main\n",
    "\n",
    "run_main(flow)"
   ]
  }
 ],
 "metadata": {
  "kernelspec": {
   "display_name": "Python 3 (ipykernel)",
   "language": "python",
   "name": "python3"
  },
  "language_info": {
   "codemirror_mode": {
    "name": "ipython",
    "version": 3
   },
   "file_extension": ".py",
   "mimetype": "text/x-python",
   "name": "python",
   "nbconvert_exporter": "python",
   "pygments_lexer": "ipython3",
   "version": "3.13.3"
  }
 },
 "nbformat": 4,
 "nbformat_minor": 5
}
